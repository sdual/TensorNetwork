{
 "cells": [
  {
   "cell_type": "code",
   "execution_count": 1,
   "metadata": {},
   "outputs": [],
   "source": [
    "import sys\n",
    "sys.path.append('/Users/a13659/git/tn/TensorNetwork')\n",
    "import numpy as np\n",
    "import tensorflow as tf\n",
    "import classifier, training\n",
    "tf.enable_eager_execution()"
   ]
  },
  {
   "cell_type": "markdown",
   "metadata": {},
   "source": [
    "# mnistのデータを取ってくる"
   ]
  },
  {
   "cell_type": "code",
   "execution_count": 2,
   "metadata": {},
   "outputs": [
    {
     "name": "stdout",
     "output_type": "stream",
     "text": [
      "(60000, 28, 28) (60000,)\n",
      "(10000, 28, 28) (10000,)\n"
     ]
    }
   ],
   "source": [
    "mnist = tf.keras.datasets.mnist\n",
    "(x_train, y_train), (x_test, y_test) = mnist.load_data(path='mnist.npz')\n",
    "\n",
    "print(x_train.shape, y_train.shape)\n",
    "print(x_test.shape, y_test.shape)"
   ]
  },
  {
   "cell_type": "markdown",
   "metadata": {},
   "source": [
    "## データをfeature mapで変換する。labelを one hot にする。\n",
    "$\\phi (p) = (p, 1-p)^T$ "
   ]
  },
  {
   "cell_type": "code",
   "execution_count": 3,
   "metadata": {},
   "outputs": [
    {
     "name": "stdout",
     "output_type": "stream",
     "text": [
      "10\n",
      "(60000, 784, 2) (60000, 10)\n",
      "(10000, 784, 2) (10000, 10)\n"
     ]
    }
   ],
   "source": [
    "def data_encoder(data):\n",
    "#    return np.array([\n",
    "#        np.cos(np.pi / 2.0 * data),\n",
    "#        np.sin(np.pi / 2.0 * data)\n",
    "#    ]).transpose([1, 2, 0])\n",
    "    return np.array([1 - data, data]).transpose([1, 2, 0])\n",
    "\n",
    "def to_one_hot(labels, n_labels=10):\n",
    "    one_hot = np.zeros((len(labels), n_labels))\n",
    "    one_hot[np.arange(len(labels)), labels] = 1\n",
    "    return one_hot\n",
    "\n",
    "n_labels = len(np.unique(y_train))\n",
    "\n",
    "# Flatten and normalize\n",
    "x_train = x_train.reshape((len(x_train), np.prod(x_train.shape[1:]))) / 255.0\n",
    "x_test = x_test.reshape((len(x_test), np.prod(x_test.shape[1:]))) / 255.0\n",
    "# Encode\n",
    "x_train = data_encoder(x_train)\n",
    "x_test = data_encoder(x_test)\n",
    "y_train = to_one_hot(y_train)\n",
    "y_test = to_one_hot(y_test)\n",
    "\n",
    "print(n_labels)\n",
    "print(x_train.shape, y_train.shape)\n",
    "print(x_test.shape, y_test.shape)"
   ]
  },
  {
   "cell_type": "code",
   "execution_count": 4,
   "metadata": {},
   "outputs": [],
   "source": [
    "from sklearn.model_selection import train_test_split\n",
    "\n",
    "x_train, x_val, y_train, y_val = train_test_split(\n",
    "    x_train, y_train, \n",
    "    test_size=0.2, \n",
    "    random_state=86\n",
    ")"
   ]
  },
  {
   "cell_type": "code",
   "execution_count": 5,
   "metadata": {},
   "outputs": [
    {
     "name": "stdout",
     "output_type": "stream",
     "text": [
      "10\n",
      "(48000, 784, 2) (48000, 10)\n",
      "(12000, 784, 2) (12000, 10)\n",
      "(10000, 784, 2) (10000, 10)\n"
     ]
    }
   ],
   "source": [
    "print(n_labels)\n",
    "print(x_train.shape, y_train.shape)\n",
    "print(x_val.shape, y_val.shape)\n",
    "print(x_test.shape, y_test.shape)"
   ]
  },
  {
   "cell_type": "markdown",
   "metadata": {},
   "source": [
    "# Matrix Product States"
   ]
  },
  {
   "cell_type": "code",
   "execution_count": 6,
   "metadata": {},
   "outputs": [],
   "source": [
    "mps = classifier.MatrixProductState(n_sites=x_train.shape[1] + 1,\n",
    "                                    n_labels=n_labels,\n",
    "                                    d_phys=x_train.shape[2],\n",
    "                                    d_bond=12)"
   ]
  },
  {
   "cell_type": "markdown",
   "metadata": {},
   "source": [
    "# training"
   ]
  },
  {
   "cell_type": "code",
   "execution_count": 7,
   "metadata": {},
   "outputs": [
    {
     "name": "stdout",
     "output_type": "stream",
     "text": [
      "\n",
      "Epoch: 0\n",
      "Time: 300.3812401294708\n",
      "Loss: 0.3338778614997864\n",
      "Accuracy: 0.8928125\n",
      "Validation Accuracy: 0.9539166666666666\n",
      "\n",
      "Epoch: 1\n",
      "Time: 632.2899131774902\n",
      "Loss: 0.13302265107631683\n",
      "Accuracy: 0.9609166666666666\n",
      "Validation Accuracy: 0.9565\n",
      "\n",
      "Epoch: 2\n",
      "Time: 967.9752292633057\n",
      "Loss: 0.1003698855638504\n",
      "Accuracy: 0.9703958333333333\n",
      "Validation Accuracy: 0.9660833333333333\n",
      "\n",
      "Epoch: 3\n",
      "Time: 1297.8896040916443\n",
      "Loss: 0.08064817637205124\n",
      "Accuracy: 0.9751458333333334\n",
      "Validation Accuracy: 0.9731666666666666\n",
      "\n",
      "Epoch: 4\n",
      "Time: 1630.5738401412964\n",
      "Loss: 0.06857838481664658\n",
      "Accuracy: 0.9792291666666667\n",
      "Validation Accuracy: 0.976\n",
      "\n",
      "Epoch: 5\n",
      "Time: 1982.2290632724762\n",
      "Loss: 0.061122290790081024\n",
      "Accuracy: 0.9808333333333333\n",
      "Validation Accuracy: 0.976\n",
      "\n",
      "Epoch: 6\n",
      "Time: 2319.87579703331\n",
      "Loss: 0.055577341467142105\n",
      "Accuracy: 0.9825208333333333\n",
      "Validation Accuracy: 0.9756666666666667\n",
      "\n",
      "Epoch: 7\n",
      "Time: 2656.2774431705475\n",
      "Loss: 0.04820755496621132\n",
      "Accuracy: 0.9844583333333333\n",
      "Validation Accuracy: 0.97575\n",
      "\n",
      "Epoch: 8\n",
      "Time: 2992.752294063568\n",
      "Loss: 0.04419328272342682\n",
      "Accuracy: 0.9860208333333333\n",
      "Validation Accuracy: 0.97825\n",
      "\n",
      "Epoch: 9\n",
      "Time: 3335.9742770195007\n",
      "Loss: 0.04022711515426636\n",
      "Accuracy: 0.9871666666666666\n",
      "Validation Accuracy: 0.9758333333333333\n"
     ]
    }
   ],
   "source": [
    "optimizer = tf.train.AdamOptimizer(learning_rate=1e-4)\n",
    "\n",
    "mps, history = training.fit(mps, optimizer, x_train, y_train,\n",
    "                            x_val=x_val, y_val=y_val,\n",
    "                            n_epochs=10, batch_size=32, n_message=1)"
   ]
  },
  {
   "cell_type": "markdown",
   "metadata": {},
   "source": [
    "# prediction"
   ]
  },
  {
   "cell_type": "code",
   "execution_count": 8,
   "metadata": {},
   "outputs": [],
   "source": [
    "x_test = tf.cast(x_test, dtype=mps.dtype)\n",
    "pred = mps.flx(x_test)"
   ]
  },
  {
   "cell_type": "code",
   "execution_count": 9,
   "metadata": {},
   "outputs": [
    {
     "data": {
      "text/plain": [
       "TensorShape([Dimension(10000), Dimension(10)])"
      ]
     },
     "execution_count": 9,
     "metadata": {},
     "output_type": "execute_result"
    }
   ],
   "source": [
    "pred.get_shape()"
   ]
  },
  {
   "cell_type": "code",
   "execution_count": 10,
   "metadata": {},
   "outputs": [],
   "source": [
    "test_accuracy = (pred.numpy().argmax(axis=1) == y_test.argmax(axis=1)).mean()"
   ]
  },
  {
   "cell_type": "code",
   "execution_count": 11,
   "metadata": {},
   "outputs": [
    {
     "name": "stdout",
     "output_type": "stream",
     "text": [
      "Test Accuracy: 0.9756\n"
     ]
    }
   ],
   "source": [
    "print(\"Test Accuracy: {}\".format(test_accuracy))"
   ]
  },
  {
   "cell_type": "code",
   "execution_count": null,
   "metadata": {},
   "outputs": [],
   "source": []
  }
 ],
 "metadata": {
  "kernelspec": {
   "display_name": "Python 3",
   "language": "python",
   "name": "python3"
  },
  "language_info": {
   "codemirror_mode": {
    "name": "ipython",
    "version": 3
   },
   "file_extension": ".py",
   "mimetype": "text/x-python",
   "name": "python",
   "nbconvert_exporter": "python",
   "pygments_lexer": "ipython3",
   "version": "3.6.4"
  }
 },
 "nbformat": 4,
 "nbformat_minor": 2
}
